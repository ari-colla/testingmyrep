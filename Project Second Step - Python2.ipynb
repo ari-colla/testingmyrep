{
 "cells": [
  {
   "cell_type": "code",
   "execution_count": 2,
   "metadata": {},
   "outputs": [],
   "source": [
    "# %load Project_Second_step_with_function.py\n",
    "\"\"\"\n",
    "Created on Thu Oct 24 20:06:44 2019\n",
    "\n",
    "@author: isalim\n",
    "\"\"\"\n",
    "\n",
    "import numpy as np\n",
    "import pandas as pd\n",
    "import matplotlib.pyplot as plt\n",
    "import seaborn as sns"
   ]
  },
  {
   "cell_type": "code",
   "execution_count": 3,
   "metadata": {},
   "outputs": [],
   "source": [
    "###### read a file\n",
    "def read_file(str1):\n",
    "    english_french = pd.read_csv(str1)\n",
    "    return english_french"
   ]
  },
  {
   "cell_type": "code",
   "execution_count": 4,
   "metadata": {},
   "outputs": [],
   "source": [
    "##### delete the first column\n",
    "def delete_fu(english_french):\n",
    "    english_french.drop(english_french.columns[0], axis=1, inplace=True)"
   ]
  },
  {
   "cell_type": "code",
   "execution_count": 5,
   "metadata": {},
   "outputs": [],
   "source": [
    "##### Check null values\n",
    "def check_Null(english_french):\n",
    "    return english_french.isnull().sum()"
   ]
  },
  {
   "cell_type": "code",
   "execution_count": 6,
   "metadata": {},
   "outputs": [],
   "source": [
    "###### If there is null values of numeric columns change them to mean value of the column\n",
    "###### For example English column \n",
    "    \n",
    "def fill_Null(english_french):\n",
    "    english_french['English'].fillna(english_french['English'].mean(),inplace=True)"
   ]
  },
  {
   "cell_type": "code",
   "execution_count": 7,
   "metadata": {},
   "outputs": [],
   "source": [
    "######### Display the cities that have people speak English and French\n",
    "def equal(english_french):\n",
    "    a = english_french.name[english_french.English == english_french.French]\n",
    "    f = english_french[english_french.English == english_french.French]\n",
    "    return a,f"
   ]
  },
  {
   "cell_type": "code",
   "execution_count": 8,
   "metadata": {},
   "outputs": [],
   "source": [
    "### Call import CSV funtion\n",
    "en_fr = read_file('english_french.csv') "
   ]
  },
  {
   "cell_type": "code",
   "execution_count": 9,
   "metadata": {},
   "outputs": [],
   "source": [
    "### Call delete null values funtion\n",
    "delete_fu(en_fr)"
   ]
  },
  {
   "cell_type": "code",
   "execution_count": 11,
   "metadata": {},
   "outputs": [
    {
     "name": "stdout",
     "output_type": "stream",
     "text": [
      "name        0\n",
      "province    0\n",
      "region      0\n",
      "English     0\n",
      "French      0\n",
      "both        0\n",
      "either      0\n",
      "neither     0\n",
      "total       0\n",
      "engperc     0\n",
      "frenperc    0\n",
      "dtype: int64\n"
     ]
    }
   ],
   "source": [
    "#### call check_null funtion\n",
    "print(check_Null(en_fr))"
   ]
  },
  {
   "cell_type": "code",
   "execution_count": 12,
   "metadata": {},
   "outputs": [],
   "source": [
    "#### call a function of fill null of English column\n",
    "fill_Null(en_fr)"
   ]
  },
  {
   "cell_type": "code",
   "execution_count": 13,
   "metadata": {},
   "outputs": [
    {
     "name": "stdout",
     "output_type": "stream",
     "text": [
      "1339              Abercorn\n",
      "1702    Lac-Tremblant-Nord\n",
      "Name: name, dtype: object\n",
      "                    name province  region  English  French  both  either  \\\n",
      "1339            Abercorn     pr24  Québec      315     315   240     390   \n",
      "1702  Lac-Tremblant-Nord     pr24  Québec       45      45    40      50   \n",
      "\n",
      "      neither  total    engperc   frenperc  \n",
      "1339        0    390  80.769231  80.769231  \n",
      "1702        0     50  90.000000  90.000000  \n"
     ]
    }
   ],
   "source": [
    "####### call a function of cities that have people speak English and French\n",
    "e,full_data =equal(en_fr)\n",
    "print(e)\n",
    "print(full_data)"
   ]
  },
  {
   "cell_type": "code",
   "execution_count": null,
   "metadata": {},
   "outputs": [],
   "source": [
    "#x= list(e)\n",
    "#en_fr[(en_fr.name==x[0]) | (en_fr.name==x[1])]"
   ]
  },
  {
   "cell_type": "code",
   "execution_count": 23,
   "metadata": {},
   "outputs": [],
   "source": [
    "def plot(english_french):\n",
    "  sns.distplot(english_french[\"frenperc\"].loc[0:100])\n",
    "  "
   ]
  },
  {
   "cell_type": "code",
   "execution_count": null,
   "metadata": {},
   "outputs": [],
   "source": [
    "sns.distplot(english_french[\"frenperc\"].loc[0:100])"
   ]
  },
  {
   "cell_type": "code",
   "execution_count": null,
   "metadata": {},
   "outputs": [],
   "source": []
  }
 ],
 "metadata": {
  "kernelspec": {
   "display_name": "Python 3",
   "language": "python",
   "name": "python3"
  },
  "language_info": {
   "codemirror_mode": {
    "name": "ipython",
    "version": 3
   },
   "file_extension": ".py",
   "mimetype": "text/x-python",
   "name": "python",
   "nbconvert_exporter": "python",
   "pygments_lexer": "ipython3",
   "version": "3.7.0"
  }
 },
 "nbformat": 4,
 "nbformat_minor": 2
}
